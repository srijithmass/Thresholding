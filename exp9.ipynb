{
 "cells": [
  {
   "cell_type": "code",
   "execution_count": 2,
   "id": "eeaf889a",
   "metadata": {},
   "outputs": [],
   "source": [
    "import cv2\n",
    "import numpy as np\n",
    "import matplotlib.pyplot as plt"
   ]
  },
  {
   "cell_type": "code",
   "execution_count": 9,
   "id": "12b58322",
   "metadata": {},
   "outputs": [],
   "source": [
    "ori_img=cv2.imread('kenny.jpg')\n",
    "\n",
    "gray_img=cv2.cvtColor(ori_img,cv2.COLOR_BGR2GRAY)"
   ]
  },
  {
   "cell_type": "code",
   "execution_count": 10,
   "id": "6d6092b3",
   "metadata": {},
   "outputs": [],
   "source": [
    "ret,thresh_img1=cv2.threshold(gray_img,86,255,cv2.THRESH_BINARY)\n",
    "ret,thresh_img2=cv2.threshold(gray_img,86,255,cv2.THRESH_BINARY_INV)\n",
    "ret,thresh_img3=cv2.threshold(gray_img,86,255,cv2.THRESH_TOZERO)\n",
    "ret,thresh_img4=cv2.threshold(gray_img,86,255,cv2.THRESH_TOZERO_INV)\n",
    "ret,thresh_img5=cv2.threshold(gray_img,100,255,cv2.THRESH_TRUNC)"
   ]
  },
  {
   "cell_type": "code",
   "execution_count": 11,
   "id": "d4a428d8",
   "metadata": {},
   "outputs": [],
   "source": [
    "thresh_img6=cv2.adaptiveThreshold(gray_img,255,cv2.ADAPTIVE_THRESH_MEAN_C,cv2.THRESH_BINARY,11,2)\n",
    "thresh_img7=cv2.adaptiveThreshold(gray_img,255,cv2.ADAPTIVE_THRESH_GAUSSIAN_C,cv2.THRESH_BINARY,11,2)"
   ]
  },
  {
   "cell_type": "code",
   "execution_count": 12,
   "id": "5843bbdd",
   "metadata": {},
   "outputs": [],
   "source": [
    "ret,thresh_img8=cv2.threshold(gray_img,0,255,cv2.THRESH_BINARY+cv2.THRESH_OTSU)"
   ]
  },
  {
   "cell_type": "code",
   "execution_count": 14,
   "id": "35a12d12",
   "metadata": {},
   "outputs": [],
   "source": [
    "cv2.imshow('original',ori_img)\n",
    "cv2.imshow('gray',gray_img)\n",
    "cv2.imshow('binary threshold',thresh_img1)\n",
    "cv2.imshow('binary to inverse threshold',thresh_img2)\n",
    "cv2.imshow('to zero threshold',thresh_img3)\n",
    "cv2.imshow('to zero to inverse threshold',thresh_img4)\n",
    "cv2.imshow('truncate threshold',thresh_img5)\n",
    "cv2.imshow('mean adaptive threshold',thresh_img6)\n",
    "cv2.imshow('gaussian adaptive threshold',thresh_img7)\n",
    "cv2.imshow('otsu thresold',thresh_img8)\n",
    "cv2.waitKey(0)\n",
    "cv2.destroyAllWindows()"
   ]
  },
  {
   "cell_type": "code",
   "execution_count": null,
   "id": "d05e2149",
   "metadata": {},
   "outputs": [],
   "source": []
  }
 ],
 "metadata": {
  "kernelspec": {
   "display_name": "Python 3 (ipykernel)",
   "language": "python",
   "name": "python3"
  },
  "language_info": {
   "codemirror_mode": {
    "name": "ipython",
    "version": 3
   },
   "file_extension": ".py",
   "mimetype": "text/x-python",
   "name": "python",
   "nbconvert_exporter": "python",
   "pygments_lexer": "ipython3",
   "version": "3.10.10"
  }
 },
 "nbformat": 4,
 "nbformat_minor": 5
}
